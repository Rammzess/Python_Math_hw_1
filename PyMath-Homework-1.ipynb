{
 "cells": [
  {
   "cell_type": "code",
   "execution_count": 3,
   "id": "0a09309b",
   "metadata": {},
   "outputs": [],
   "source": [
    "import numpy as np\n",
    "import matplotlib.pyplot as plt\n",
    "import sympy as sym"
   ]
  },
  {
   "cell_type": "code",
   "execution_count": 5,
   "id": "474aa388",
   "metadata": {},
   "outputs": [],
   "source": [
    "dataset_flm = np.array([[\"Комедия\", \"Боевик\", \"Исторический\", \"Бред Питт\", \"Бенедикт Камбербэтч\", \"Квентин Тарантино\"]])\n",
    "film_1 = np.array([0,0,0,0,1,0])      # Игра в имитацию\n",
    "\n",
    "film_2 = np.array([0,1,0,1,0,0])      # Ярость\n",
    "\n",
    "film_3 = np.array([0,0,1,1,1,0])      # 12 лет рабства\n",
    "\n",
    "film_4 = np.array([1,0,0,1,0,1])      # Однажды в Голливуде"
   ]
  },
  {
   "cell_type": "code",
   "execution_count": 11,
   "id": "46698a22",
   "metadata": {},
   "outputs": [
    {
     "data": {
      "text/plain": [
       "0.9178176631345548"
      ]
     },
     "execution_count": 11,
     "metadata": {},
     "output_type": "execute_result"
    }
   ],
   "source": [
    "# ЗАДАНИЕ 1 \n",
    "#Найти угол между векторами-фильмами \"Ярость\" и \"12 лет рабства\". \n",
    "#Результатом будет являться косинусная мера, которую можно использовать для определения похожести векторов.\n",
    "\n",
    "cos_degree = np.cos(np.dot(film_2,film_3)/(np.linalg.norm(film_2)*np.linalg.norm(film_3)))\n",
    "cos_degree\n",
    "#65 градусов"
   ]
  },
  {
   "cell_type": "code",
   "execution_count": 9,
   "id": "d0de191c",
   "metadata": {},
   "outputs": [
    {
     "data": {
      "text/latex": [
       "$\\displaystyle 132$"
      ],
      "text/plain": [
       "132"
      ]
     },
     "execution_count": 9,
     "metadata": {},
     "output_type": "execute_result"
    }
   ],
   "source": [
    "# ЗАДАНИЕ 2\n",
    "# Вычислить с помощью Python значение первой производной для функции 3x(x**2+x)**3 в точке X = 1\n",
    "x=sym.Symbol('x')\n",
    "3*x*(x**2+x)**3\n",
    "result = sym.diff(3*x*(x**2+x)**3,x)\n",
    "final = result.subs(x,1)\n",
    "final"
   ]
  },
  {
   "cell_type": "code",
   "execution_count": 18,
   "id": "3925ee55",
   "metadata": {},
   "outputs": [
    {
     "data": {
      "text/plain": [
       "array([[[0, 0, 0, 0, 1, 0],\n",
       "        [0, 1, 0, 1, 0, 0],\n",
       "        [0, 0, 1, 1, 1, 0],\n",
       "        [1, 0, 0, 1, 0, 1]]])"
      ]
     },
     "execution_count": 18,
     "metadata": {},
     "output_type": "execute_result"
    }
   ],
   "source": [
    "# Задание 3\n",
    "# Объединить векторы, полученные в Задании 1 в матрицу, где каждый вектор является строкой матрицы. \n",
    "# Полученную матрицу умножить на вектор [1,2,3,4]\n",
    "M_films = np.array([[film_1, film_2, film_3, film_4]])\n",
    "vec = np.array([1,2,3,4])\n",
    "np.matmul(M_films, vec)\n",
    "# Матрицу M_films невозможно умножить на вектор vec, так как количество строк в векторе и кол-во столбцов в матрице отличается "
   ]
  },
  {
   "cell_type": "code",
   "execution_count": 20,
   "id": "085fd868",
   "metadata": {},
   "outputs": [
    {
     "ename": "ValueError",
     "evalue": "matmul: Input operand 1 has a mismatch in its core dimension 0, with gufunc signature (n?,k),(k,m?)->(n?,m?) (size 4 is different from 6)",
     "output_type": "error",
     "traceback": [
      "\u001b[1;31m---------------------------------------------------------------------------\u001b[0m",
      "\u001b[1;31mValueError\u001b[0m                                Traceback (most recent call last)",
      "Input \u001b[1;32mIn [20]\u001b[0m, in \u001b[0;36m<cell line: 2>\u001b[1;34m()\u001b[0m\n\u001b[0;32m      1\u001b[0m vec \u001b[38;5;241m=\u001b[39m np\u001b[38;5;241m.\u001b[39marray([\u001b[38;5;241m1\u001b[39m,\u001b[38;5;241m2\u001b[39m,\u001b[38;5;241m3\u001b[39m,\u001b[38;5;241m4\u001b[39m])\n\u001b[1;32m----> 2\u001b[0m \u001b[43mnp\u001b[49m\u001b[38;5;241;43m.\u001b[39;49m\u001b[43mmatmul\u001b[49m\u001b[43m(\u001b[49m\u001b[43mM_films\u001b[49m\u001b[43m,\u001b[49m\u001b[43m \u001b[49m\u001b[43mvec\u001b[49m\u001b[43m)\u001b[49m\n",
      "\u001b[1;31mValueError\u001b[0m: matmul: Input operand 1 has a mismatch in its core dimension 0, with gufunc signature (n?,k),(k,m?)->(n?,m?) (size 4 is different from 6)"
     ]
    }
   ],
   "source": []
  },
  {
   "cell_type": "code",
   "execution_count": null,
   "id": "0d6bf334",
   "metadata": {},
   "outputs": [],
   "source": []
  }
 ],
 "metadata": {
  "kernelspec": {
   "display_name": "Python 3 (ipykernel)",
   "language": "python",
   "name": "python3"
  },
  "language_info": {
   "codemirror_mode": {
    "name": "ipython",
    "version": 3
   },
   "file_extension": ".py",
   "mimetype": "text/x-python",
   "name": "python",
   "nbconvert_exporter": "python",
   "pygments_lexer": "ipython3",
   "version": "3.10.4"
  }
 },
 "nbformat": 4,
 "nbformat_minor": 5
}
